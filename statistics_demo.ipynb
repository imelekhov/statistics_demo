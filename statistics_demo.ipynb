{
 "cells": [
  {
   "cell_type": "code",
   "execution_count": null,
   "metadata": {
    "collapsed": false
   },
   "outputs": [],
   "source": [
    "import numpy as np\n",
    "import matplotlib.pyplot as plt"
   ]
  },
  {
   "cell_type": "code",
   "execution_count": null,
   "metadata": {
    "collapsed": false
   },
   "outputs": [],
   "source": [
    "# Exercise 1:\n",
    "number_of_samples = 1000\n",
    "observations_arr = np.array([100, 1000, 10000])\n",
    "\n",
    "bins = np.linspace(-0.4, 0.4, 100)\n",
    "\n",
    "for number_of_observations in np.nditer(observations_arr):\n",
    "    # generate a matrix [number_of_samples x number_of_observations] \n",
    "    M = np.random.randn(number_of_samples, number_of_observations)\n",
    "    # calculate maximum likelihood as mean for each sample\n",
    "    ML = M.mean(1)\n",
    "    # calculate histogram\n",
    "    plt.hist(ML, bins, alpha=0.5, label=str(number_of_observations))\n",
    "    \n",
    "# put a legend on the plot\n",
    "plt.legend(loc='upper right')\n",
    "# visualise\n",
    "plt.show()"
   ]
  },
  {
   "cell_type": "code",
   "execution_count": null,
   "metadata": {
    "collapsed": false
   },
   "outputs": [],
   "source": [
    "number_of_samples = 2\n",
    "number_of_observations = 10000\n",
    "# generate a two-dimensional random vector\n",
    "X = np.random.randn(number_of_samples, number_of_observations)\n",
    "print('Covariance matrix cov(X): ')\n",
    "# calculate the covariance matrix of X\n",
    "# Important! Each row of X represents a variable, and each column a single observation of all those variables\n",
    "print(np.cov(X))\n",
    "\n",
    "# b) Build up the matrix A\n",
    "A = np.array([[2, 3], [0, 1]])\n",
    "# multiply A by X (2x2) x (2x10000)\n",
    "Ax = np.dot(A, X)\n",
    "print('Covariance matrix cov(Ax): ')\n",
    "print(np.cov(Ax))\n",
    "\n",
    "# Calculate AA^T\n",
    "b = np.dot(A, A.T)\n",
    "print('Covariance matrix cov(AA^T): ')\n",
    "print(np.cov(b))"
   ]
  }
 ],
 "metadata": {
  "kernelspec": {
   "display_name": "Python 2",
   "language": "python",
   "name": "python2"
  },
  "language_info": {
   "codemirror_mode": {
    "name": "ipython",
    "version": 2
   },
   "file_extension": ".py",
   "mimetype": "text/x-python",
   "name": "python",
   "nbconvert_exporter": "python",
   "pygments_lexer": "ipython2",
   "version": "2.7.10"
  }
 },
 "nbformat": 4,
 "nbformat_minor": 1
}
